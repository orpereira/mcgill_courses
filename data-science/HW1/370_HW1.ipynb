{
 "cells": [
  {
   "cell_type": "markdown",
   "metadata": {},
   "source": [
    "# COMP 370 Homework 1 – Mini Data Science Project"
   ]
  },
  {
   "cell_type": "markdown",
   "metadata": {},
   "source": [
    "## 1. Data Collection"
   ]
  },
  {
   "cell_type": "markdown",
   "metadata": {},
   "source": [
    "a. Download the raw tweet data. You will ONLY be using the data from the first file"
   ]
  },
  {
   "cell_type": "code",
   "execution_count": 1,
   "metadata": {},
   "outputs": [],
   "source": [
    "import pandas as pd\n",
    "df = pd.read_csv('/Users/oliviapereira/Desktop/IRAhandle_tweets_1.csv')"
   ]
  },
  {
   "cell_type": "markdown",
   "metadata": {},
   "source": [
    "b. Looking at only the first 10,000 tweets in the file, keep those that (1) are in English and (2) don’t contain a question. This will be our dataset. To filter the \n",
    "right tweets out, take a look at the columns.\n",
    "\n",
    "i. There are specific columns that call out our language. You can trust these.\n",
    "\n",
    "ii. Assume that a tweet which contains a question contains a “?” character."
   ]
  },
  {
   "cell_type": "code",
   "execution_count": 2,
   "metadata": {},
   "outputs": [
    {
     "name": "stdout",
     "output_type": "stream",
     "text": [
      "shape after cutting to 10k: 10000\n",
      "shape after filtering: 4802\n"
     ]
    }
   ],
   "source": [
    "df_10k = df.iloc[:10000]\n",
    "print('shape after cutting to 10k:', df_10k.shape[0])\n",
    "df_filtered = df_10k[(df_10k['language'] == 'English') & (~df_10k['content'].str.contains('\\?'))] \n",
    "print('shape after filtering:', df_filtered.shape[0])"
   ]
  },
  {
   "cell_type": "markdown",
   "metadata": {},
   "source": [
    "c. Create a new file (I would suggest in TSV – tab-separated-value - format) containing these tweets."
   ]
  },
  {
   "cell_type": "code",
   "execution_count": 3,
   "metadata": {},
   "outputs": [],
   "source": [
    "df_filtered.to_csv('/Users/oliviapereira/Desktop/filtered_tweets.tsv', sep='\\t', index=False)"
   ]
  },
  {
   "cell_type": "markdown",
   "metadata": {},
   "source": [
    "## 2. Data Annotation"
   ]
  },
  {
   "cell_type": "markdown",
   "metadata": {},
   "source": [
    "a. To do our analysis, we need to add one new feature: whether or not the tweet mentioned Trump. This feature “trump_mention” is Boolean (=”T”/”F”). A tweet mentions Trump if and only if it contains the word “Trump” (case-sensitive) as a word. This means that it is separated from other alphanumeric letters by either whitespace OR non-alphanumeric characters (e.g., “anti- Trump protesters” contains “trump”, but “I got trumped” does not)."
   ]
  },
  {
   "cell_type": "code",
   "execution_count": 7,
   "metadata": {},
   "outputs": [],
   "source": [
    "df_annotated = df_filtered.copy()        # make sure we're not working on a copy of the original\n",
    "df_annotated['trump_mentioned'] = 'F'    # set the default value to false\n",
    "\n",
    "# setting the value to true if the content contains the word 'Trump'\n",
    "df_annotated.loc[df_annotated['content'].str.contains('Trump'), 'trump_mentioned'] = 'T'"
   ]
  },
  {
   "cell_type": "markdown",
   "metadata": {},
   "source": [
    "b. Create a new version of your dataset (e.g., a CSV/TSV file) that contains this additional feature."
   ]
  },
  {
   "cell_type": "code",
   "execution_count": 8,
   "metadata": {},
   "outputs": [],
   "source": [
    "df_annotated.to_csv('/Users/oliviapereira/Desktop/annotated_tweets.tsv', sep='\\t', index=False)"
   ]
  },
  {
   "cell_type": "markdown",
   "metadata": {},
   "source": [
    "## 3. Analysis"
   ]
  },
  {
   "cell_type": "markdown",
   "metadata": {},
   "source": [
    "a. Using your newly annotated dataset, compute the statistic: % of tweets that mention Trump."
   ]
  },
  {
   "cell_type": "code",
   "execution_count": 16,
   "metadata": {},
   "outputs": [
    {
     "name": "stdout",
     "output_type": "stream",
     "text": [
      "number of tweets mentioning Trump: 190\n",
      "percentage of tweets mentioning Trump: 3.956685%.\n"
     ]
    }
   ],
   "source": [
    "num_mention_trump = (df_annotated['trump_mentioned'] == 'T').sum()\n",
    "print('number of tweets mentioning Trump:', num_mention_trump)\n",
    "\n",
    "# computing the statistic\n",
    "percentage_mention_trump = num_mention_trump / df_annotated.shape[0] * 100\n",
    "print(f'percentage of tweets mentioning Trump: {percentage_mention_trump:1f}%.')"
   ]
  },
  {
   "cell_type": "markdown",
   "metadata": {},
   "source": [
    "b. It turns out that our approach isn’t counting tweets properly ... meaning that some tweets are getting counted more than once. Go through and look at your annotated data. Identify where the counting problem is coming from."
   ]
  },
  {
   "cell_type": "code",
   "execution_count": 20,
   "metadata": {},
   "outputs": [],
   "source": [
    "with open('README.md', 'w') as f:\n",
    "    f.write('There are instances of identical retweets or quotes tweets that are being counted multiple times. There are seem to be some issues where the same tweet is entered multiple times, but might have a slight correction and was reuploaded.')"
   ]
  },
  {
   "cell_type": "markdown",
   "metadata": {},
   "source": [
    "## Submission Instructions\n",
    "To be considered complete, your submission should contain the following and some non-trivial attempt to provide a solution.\n",
    "- README.md\n",
    "    - In 3 sentences or less, explain where the counting problem is coming from.\n",
    "- dataset.tsv\n",
    "    - This should be the output of your Data Annotation phase.\n",
    "    - Format is tab-separated value, utf-8 (as long as you don’t do anything fancy, it will be in utf-8)\n",
    "    - The first line should be a header line\n",
    "    - The file should contain the following columns, in this order: tweet_id, publish_date, content, and trump_mention. Tweets should appear in the same order they appeared in the original file from 538.\n",
    "- results.tsv\n",
    "    - Format is tab-separated value\n",
    "    - The first line should be a header line, with headers “result” and “value”.\n",
    "    - The second line should contain the result for “frac-trump-mentions”. If necessary, truncate your answer to three decimal places."
   ]
  },
  {
   "cell_type": "code",
   "execution_count": 22,
   "metadata": {},
   "outputs": [],
   "source": [
    "# creating final files to be submitted\n",
    "\n",
    "df_annotated.head()\n",
    "df_dataset = df_annotated[['tweet_id', 'publish_date', 'content', 'trump_mentioned']]\n",
    "df_dataset.to_csv('/Users/oliviapereira/Desktop/dataset.tsv', sep='\\t', index=False)\n",
    "\n",
    "results = {\n",
    "    'result' : 'frac-trump-mentions',\n",
    "    'value' : round(percentage_mention_trump, 3)\n",
    "}\n",
    "\n",
    "df_results = pd.DataFrame([results])\n",
    "df_results.to_csv('/Users/oliviapereira/Desktop/results.tsv', sep='\\t', index=False)"
   ]
  },
  {
   "cell_type": "markdown",
   "metadata": {},
   "source": []
  }
 ],
 "metadata": {
  "kernelspec": {
   "display_name": "Python 3",
   "language": "python",
   "name": "python3"
  },
  "language_info": {
   "codemirror_mode": {
    "name": "ipython",
    "version": 3
   },
   "file_extension": ".py",
   "mimetype": "text/x-python",
   "name": "python",
   "nbconvert_exporter": "python",
   "pygments_lexer": "ipython3",
   "version": "3.9.13"
  }
 },
 "nbformat": 4,
 "nbformat_minor": 2
}
