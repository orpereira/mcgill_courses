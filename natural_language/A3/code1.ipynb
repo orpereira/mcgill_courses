{
 "cells": [
  {
   "cell_type": "code",
   "execution_count": 1,
   "metadata": {},
   "outputs": [],
   "source": [
    "from code_1 import *"
   ]
  },
  {
   "cell_type": "code",
   "execution_count": 2,
   "metadata": {},
   "outputs": [],
   "source": [
    "tweets = []\n",
    "with open('data/covid-tweets-2020-08-10-2020-08-21.tokenized.txt') as f:\n",
    "    tweets = [line.strip() for line in f.readlines()]\n",
    "\n",
    "stop_words = []\n",
    "with open('data/stop_words.txt') as f:\n",
    "    stop_words = [line.strip() for line in f.readlines()]"
   ]
  },
  {
   "cell_type": "code",
   "execution_count": 3,
   "metadata": {},
   "outputs": [
    {
     "name": "stdout",
     "output_type": "stream",
     "text": [
      "Counter({'covid': 71281, 'pandemic': 50353, 'covid-19': 33591, 'people': 31850, 'n’t': 31053, 'like': 20837, 'mask': 20107, 'get': 19982, 'coronavirus': 19949, 'trump': 19223})\n"
     ]
    }
   ],
   "source": [
    "\"\"\"Building Vector Space model using PMI\"\"\"\n",
    "\n",
    "print(top_k_unigrams(tweets, stop_words, 10))\n",
    "# {'covid': 71281, 'pandemic': 50353, 'covid-19': 33591, 'people': 31850, 'n’t': 31053, 'like': 20837, 'mask': 20107, 'get': 19982, 'coronavirus': 19949, 'trump': 19223}\n",
    "frequent_unigrams = top_k_unigrams(tweets, stop_words, 1000)\n",
    "unigram_counter = top_k_unigrams(tweets, stop_words, -1)"
   ]
  },
  {
   "cell_type": "code",
   "execution_count": 4,
   "metadata": {},
   "outputs": [
    {
     "name": "stdout",
     "output_type": "stream",
     "text": [
      "[(('the', 'pandemic'), 19811), (('a', 'pandemic'), 16615), (('a', 'mask'), 14353), (('a', 'wear'), 11017), (('wear', 'mask'), 10628), (('mask', 'wear'), 10628), (('do', 'n’t'), 10237), (('during', 'pandemic'), 8127), (('the', 'covid'), 7630), (('to', 'go'), 7527)]\n",
      "[(('the', 'pandemic'), 19811), (('a', 'pandemic'), 16615), (('a', 'mask'), 14353), (('a', 'wear'), 11017), (('wear', 'mask'), 10628), (('mask', 'wear'), 10628), (('do', 'n’t'), 10237), (('during', 'pandemic'), 8127), (('the', 'covid'), 7630), (('to', 'go'), 7527)]\n"
     ]
    }
   ],
   "source": [
    "### THIS PART IS JUST TO PROVIDE A REFERENCE OUTPUT\n",
    "sample_output = context_word_frequencies(tweets, stop_words, 2, frequent_unigrams)\n",
    "print(sample_output.most_common(10))\n",
    "expected = [(('the', 'pandemic'), 19811),\n",
    "(('a', 'pandemic'), 16615),\n",
    "(('a', 'mask'), 14353),\n",
    "(('a', 'wear'), 11017),\n",
    "(('wear', 'mask'), 10628),\n",
    "(('mask', 'wear'), 10628),\n",
    "(('do', 'n’t'), 10237),\n",
    "(('during', 'pandemic'), 8127),\n",
    "(('the', 'covid'), 7630),\n",
    "(('to', 'go'), 7527)]\n",
    "print(expected)\n",
    "\n",
    "### END OF REFERENCE OUTPUT"
   ]
  },
  {
   "cell_type": "code",
   "execution_count": 5,
   "metadata": {},
   "outputs": [],
   "source": [
    "context_counter = context_word_frequencies(tweets, stop_words, 3, frequent_unigrams)"
   ]
  },
  {
   "cell_type": "code",
   "execution_count": 12,
   "metadata": {},
   "outputs": [
    {
     "name": "stdout",
     "output_type": "stream",
     "text": [
      "{'put': 6.301874856316369, 'patient': 6.222687002250096, 'tried': 6.1581080516730955, 'wearing': 5.2564459708663875, 'needed': 5.247669358807432, 'spent': 5.230966480014663, 'enjoy': 5.17798019838471, 'weeks': 5.124941187737896, 'avoid': 5.107686157639801, 'governors': 5.103879572210066}\n",
      "{'put': 6.301874856316369, 'patient': 6.222687002250096, 'tried': 6.158108051673095, 'wearing': 5.2564459708663875, 'needed': 5.247669358807432, 'spent': 5.230966480014661, 'enjoy': 5.177980198384708, 'weeks': 5.124941187737894, 'avoid': 5.107686157639801, 'governors': 5.103879572210065}\n",
      "{'wear': 7.2782033564253075, 'wearing': 6.7607221076029145, 'mandate': 6.505074539073232, 'wash': 5.6207009622657065, 'n95': 5.600353617179618, 'distance': 5.599542578641885, 'face': 5.33567791280172, 'anti': 4.97346515021934, 'damn': 4.970725788331301, 'outside': 4.480269405864604}\n",
      "{'wear': 7.278203356425305, 'wearing': 6.760722107602916, 'mandate': 6.505074539073231, 'wash': 5.620700962265705, 'n95': 5.600353617179614, 'distance': 5.599542578641884, 'face': 5.335677912801717, 'anti': 4.9734651502193366, 'damn': 4.970725788331299, 'outside': 4.4802694058646}\n",
      "{'social': 8.637723567642846, 'guidelines': 6.244375965192865, 'masks': 6.055876420939217, 'rules': 5.7866651612193545, 'measures': 5.5281689311934565, 'wearing': 5.347796214635818, 'required': 4.896659865603407, 'hand': 4.813598338358184, 'following': 4.6333018767154615, 'lack': 4.531964710683778}\n",
      "{'social': 8.637723567642842, 'guidelines': 6.244375965192868, 'masks': 6.055876420939214, 'rules': 5.786665161219354, 'measures': 5.528168931193456, 'wearing': 5.347796214635814, 'required': 4.896659865603407, 'hand': 4.813598338358183, 'following': 4.633301876715461, 'lack': 4.531964710683777}\n",
      "{'donald': 7.363071158640812, 'administration': 6.16002374559021, 'president': 5.35390513992606, 'blame': 4.838868198365827, 'fault': 4.833928177006809, 'calls': 4.685281547339574, 'gop': 4.603457978983299, 'failed': 4.532989597142956, 'orders': 4.464073158650434, 'campaign': 4.380466556168082}\n",
      "{'donald': 7.363071158640809, 'administration': 6.160023745590209, 'president': 5.353905139926054, 'blame': 4.838868198365827, 'fault': 4.833928177006809, 'calls': 4.685281547339574, 'gop': 4.603457978983295, 'failed': 4.532989597142956, 'orders': 4.464073158650432, 'campaign': 4.3804665561680824}\n",
      "{'global': 5.60148917526981, 'middle': 5.565259949326983, 'amid': 5.24131253312498, 'handling': 4.6094830772485595, 'ended': 4.588675517219512, 'deadly': 4.371399989758026, 'response': 4.138827482426904, 'beginning': 4.11649595378122, 'pre': 4.043655804452212, 'survive': 3.8777495603541285}\n",
      "{'global': 5.601489175269805, 'middle': 5.565259949326977, 'amid': 5.241312533124981, 'handling': 4.609483077248557, 'ended': 4.58867551721951, 'deadly': 4.371399989758025, 'response': 4.138827482426898, 'beginning': 4.116495953781218, 'pre': 4.043655804452211, 'survive': 3.8777495603541254}\n"
     ]
    }
   ],
   "source": [
    "import code_1\n",
    "from importlib import reload\n",
    "reload(code_1)\n",
    "from code_1 import build_word_vector, get_top_k_dimensions\n",
    "word_vector = build_word_vector('ventilator', frequent_unigrams, unigram_counter, context_counter)\n",
    "print(get_top_k_dimensions(word_vector, 10))\n",
    "expected = {'put': 6.301874856316369, 'patient': 6.222687002250096, 'tried': 6.158108051673095, 'wearing': 5.2564459708663875, 'needed': 5.247669358807432, 'spent': 5.230966480014661, 'enjoy': 5.177980198384708, 'weeks': 5.124941187737894, 'avoid': 5.107686157639801, 'governors': 5.103879572210065}\n",
    "print(expected)\n",
    "\n",
    "word_vector = build_word_vector('mask', frequent_unigrams, unigram_counter, context_counter)\n",
    "print(get_top_k_dimensions(word_vector, 10))\n",
    "expected = {'wear': 7.278203356425305, 'wearing': 6.760722107602916, 'mandate': 6.505074539073231, 'wash': 5.620700962265705, 'n95': 5.600353617179614, 'distance': 5.599542578641884, 'face': 5.335677912801717, 'anti': 4.9734651502193366, 'damn': 4.970725788331299, 'outside': 4.4802694058646}\n",
    "print(expected)\n",
    "\n",
    "word_vector = build_word_vector('distancing', frequent_unigrams, unigram_counter, context_counter)\n",
    "print(get_top_k_dimensions(word_vector, 10))\n",
    "expected = {'social': 8.637723567642842, 'guidelines': 6.244375965192868, 'masks': 6.055876420939214, 'rules': 5.786665161219354, 'measures': 5.528168931193456, 'wearing': 5.347796214635814, 'required': 4.896659865603407, 'hand': 4.813598338358183, 'following': 4.633301876715461, 'lack': 4.531964710683777}\n",
    "print(expected)\n",
    "\n",
    "word_vector = build_word_vector('trump', frequent_unigrams, unigram_counter, context_counter)\n",
    "print(get_top_k_dimensions(word_vector, 10))\n",
    "expected = {'donald': 7.363071158640809, 'administration': 6.160023745590209, 'president': 5.353905139926054, 'blame': 4.838868198365827, 'fault': 4.833928177006809, 'calls': 4.685281547339574, 'gop': 4.603457978983295, 'failed': 4.532989597142956, 'orders': 4.464073158650432, 'campaign': 4.3804665561680824}\n",
    "print(expected)\n",
    "\n",
    "word_vector = build_word_vector('pandemic', frequent_unigrams, unigram_counter, context_counter)\n",
    "print(get_top_k_dimensions(word_vector, 10))\n",
    "expected = {'global': 5.601489175269805, 'middle': 5.565259949326977, 'amid': 5.241312533124981, 'handling': 4.609483077248557, 'ended': 4.58867551721951, 'deadly': 4.371399989758025, 'response': 4.138827482426898, 'beginning': 4.116495953781218, 'pre': 4.043655804452211, 'survive': 3.8777495603541254}\n",
    "print(expected)"
   ]
  },
  {
   "cell_type": "code",
   "execution_count": 13,
   "metadata": {},
   "outputs": [
    {
     "name": "stdout",
     "output_type": "stream",
     "text": [
      "0.23415677049353428\n",
      "0.2341567704935342\n",
      "0.051273269049362136\n",
      "0.05127326904936171\n",
      "0.7052644362543865\n",
      "0.7052644362543867\n",
      "0.6144272810573133\n",
      "0.6144272810573133\n",
      "0.37083874436657643\n",
      "0.37083874436657593\n",
      "0.3456866508615282\n",
      "0.34568665086152817\n"
     ]
    }
   ],
   "source": [
    "import code_1\n",
    "from importlib import reload\n",
    "reload(code_1)\n",
    "from code_1 import get_cosine_similarity\n",
    "\n",
    "word1_vector = build_word_vector('ventilator', frequent_unigrams, unigram_counter, context_counter)\n",
    "word2_vector = build_word_vector('covid-19', frequent_unigrams, unigram_counter, context_counter)\n",
    "print(get_cosine_similarity(word1_vector, word2_vector))\n",
    "print(0.2341567704935342)\n",
    "\n",
    "word2_vector = build_word_vector('mask', frequent_unigrams, unigram_counter, context_counter)\n",
    "print(get_cosine_similarity(word1_vector, word2_vector))\n",
    "print(0.05127326904936171)\n",
    "\n",
    "word1_vector = build_word_vector('president', frequent_unigrams, unigram_counter, context_counter)\n",
    "word2_vector = build_word_vector('trump', frequent_unigrams, unigram_counter, context_counter)\n",
    "print(get_cosine_similarity(word1_vector, word2_vector))\n",
    "print(0.7052644362543867)\n",
    "\n",
    "word2_vector = build_word_vector('biden', frequent_unigrams, unigram_counter, context_counter)\n",
    "print(get_cosine_similarity(word1_vector, word2_vector))\n",
    "print(0.6144272810573133)\n",
    "\n",
    "word1_vector = build_word_vector('trudeau', frequent_unigrams, unigram_counter, context_counter)\n",
    "word2_vector = build_word_vector('trump', frequent_unigrams, unigram_counter, context_counter)\n",
    "print(get_cosine_similarity(word1_vector, word2_vector))\n",
    "print(0.37083874436657593)\n",
    "\n",
    "word2_vector = build_word_vector('biden', frequent_unigrams, unigram_counter, context_counter)\n",
    "print(get_cosine_similarity(word1_vector, word2_vector))\n",
    "print(0.34568665086152817)"
   ]
  },
  {
   "cell_type": "code",
   "execution_count": 14,
   "metadata": {},
   "outputs": [],
   "source": [
    "EMBEDDING_FILE = 'data/GoogleNews-vectors-negative300.bin.gz'\n",
    "word2vec = KeyedVectors.load_word2vec_format(EMBEDDING_FILE, binary=True)"
   ]
  },
  {
   "cell_type": "code",
   "execution_count": null,
   "metadata": {},
   "outputs": [
    {
     "name": "stdout",
     "output_type": "stream",
     "text": [
      "[('respirator', 0.7864563465118408), ('mechanical_ventilator', 0.706384003162384), ('intensive_care', 0.6809945702552795)]\n",
      "('Parisian', 0.6190757751464844)\n"
     ]
    }
   ],
   "source": [
    "import code_1\n",
    "from importlib import reload\n",
    "reload(code_1)\n",
    "from code_1 import get_most_similar\n",
    "\n",
    "similar_words =  get_most_similar(word2vec, 'ventilator', 3)\n",
    "print(similar_words)\n",
    "# [('respirator', 0.7864563465118408), ('mechanical_ventilator', 0.7063839435577393), ('intensive_care', 0.6809945702552795)]"
   ]
  },
  {
   "cell_type": "code",
   "execution_count": 22,
   "metadata": {},
   "outputs": [
    {
     "name": "stdout",
     "output_type": "stream",
     "text": [
      "('France', 0.7889979481697083)\n"
     ]
    }
   ],
   "source": [
    "import code_1\n",
    "from importlib import reload\n",
    "reload(code_1)\n",
    "from code_1 import word_analogy\n",
    "\n",
    "# Word analogy - Tokyo is to Japan as Paris is to what?\n",
    "print(word_analogy(word2vec, 'Tokyo', 'Japan', 'Paris'))\n",
    "# ('France', 0.7889978885650635)"
   ]
  },
  {
   "cell_type": "code",
   "execution_count": 1,
   "metadata": {},
   "outputs": [],
   "source": [
    "documents = [\n",
    "    ['hello', 'apple', 'banana'],\n",
    "    ['hello', 'apple', 'banana', 'cherry'],\n",
    "    ['apple', 'banana', 'date'],\n",
    "]\n",
    "\n",
    "stopwords = [',', '.']\n",
    "\n",
    "from code_1 import create_tfidf_matrix"
   ]
  },
  {
   "cell_type": "code",
   "execution_count": 2,
   "metadata": {},
   "outputs": [
    {
     "ename": "TypeError",
     "evalue": "unsupported operand type(s) for /: 'int' and 'dict_values'",
     "output_type": "error",
     "traceback": [
      "\u001b[0;31m---------------------------------------------------------------------------\u001b[0m",
      "\u001b[0;31mTypeError\u001b[0m                                 Traceback (most recent call last)",
      "\u001b[0;32m/var/folders/2g/h368by4j4039rpj44l4rngpc0000gn/T/ipykernel_28535/1580970858.py\u001b[0m in \u001b[0;36m<module>\u001b[0;34m\u001b[0m\n\u001b[0;32m----> 1\u001b[0;31m \u001b[0mcreate_tfidf_matrix\u001b[0m\u001b[0;34m(\u001b[0m\u001b[0mdocuments\u001b[0m\u001b[0;34m,\u001b[0m \u001b[0mstopwords\u001b[0m\u001b[0;34m)\u001b[0m\u001b[0;34m\u001b[0m\u001b[0;34m\u001b[0m\u001b[0m\n\u001b[0m",
      "\u001b[0;32m~/Desktop/mcgill_courses/natural_language/A3/code_1.py\u001b[0m in \u001b[0;36mcreate_tfidf_matrix\u001b[0;34m(documents, stopwords)\u001b[0m\n\u001b[1;32m    373\u001b[0m         \u001b[0;32mfor\u001b[0m \u001b[0mj\u001b[0m\u001b[0;34m,\u001b[0m \u001b[0mword\u001b[0m \u001b[0;32min\u001b[0m \u001b[0menumerate\u001b[0m\u001b[0;34m(\u001b[0m\u001b[0mvocab\u001b[0m\u001b[0;34m)\u001b[0m\u001b[0;34m:\u001b[0m\u001b[0;34m\u001b[0m\u001b[0;34m\u001b[0m\u001b[0m\n\u001b[1;32m    374\u001b[0m             \u001b[0;31m# calculate the tf value using f_t,d / sum(f_t',d)\u001b[0m\u001b[0;34m\u001b[0m\u001b[0;34m\u001b[0m\u001b[0m\n\u001b[0;32m--> 375\u001b[0;31m             \u001b[0mtf\u001b[0m \u001b[0;34m=\u001b[0m \u001b[0mf_td\u001b[0m\u001b[0;34m[\u001b[0m\u001b[0mword\u001b[0m\u001b[0;34m]\u001b[0m \u001b[0;34m/\u001b[0m \u001b[0mnp\u001b[0m\u001b[0;34m.\u001b[0m\u001b[0msum\u001b[0m\u001b[0;34m(\u001b[0m\u001b[0mf_td\u001b[0m\u001b[0;34m.\u001b[0m\u001b[0mvalues\u001b[0m\u001b[0;34m(\u001b[0m\u001b[0;34m)\u001b[0m\u001b[0;34m)\u001b[0m\u001b[0;34m\u001b[0m\u001b[0;34m\u001b[0m\u001b[0m\n\u001b[0m\u001b[1;32m    376\u001b[0m \u001b[0;34m\u001b[0m\u001b[0m\n\u001b[1;32m    377\u001b[0m             \u001b[0;31m# calculate the idf value using log10(N/1+nt) + 1\u001b[0m\u001b[0;34m\u001b[0m\u001b[0;34m\u001b[0m\u001b[0m\n",
      "\u001b[0;31mTypeError\u001b[0m: unsupported operand type(s) for /: 'int' and 'dict_values'"
     ]
    }
   ],
   "source": [
    "create_tfidf_matrix(documents, stopwords)"
   ]
  },
  {
   "cell_type": "code",
   "execution_count": null,
   "metadata": {},
   "outputs": [],
   "source": []
  }
 ],
 "metadata": {
  "kernelspec": {
   "display_name": "base",
   "language": "python",
   "name": "python3"
  },
  "language_info": {
   "codemirror_mode": {
    "name": "ipython",
    "version": 3
   },
   "file_extension": ".py",
   "mimetype": "text/x-python",
   "name": "python",
   "nbconvert_exporter": "python",
   "pygments_lexer": "ipython3",
   "version": "3.9.13"
  }
 },
 "nbformat": 4,
 "nbformat_minor": 2
}
